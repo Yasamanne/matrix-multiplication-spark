{
 "cells": [
  {
   "cell_type": "raw",
   "id": "8a95833a-8b28-4daf-8941-6c1d9c05db61",
   "metadata": {},
   "source": [
    "__author__ = \"Yasaman Emami\"\n",
    "__email__ = ['emami.yasamann@gmail.com','yasaman.emami@sjsu.edu']\n",
    "__sid__ = \"015325557\""
   ]
  },
  {
   "cell_type": "raw",
   "id": "3bee9e15-4e48-4a3d-8f80-6276bffe54f5",
   "metadata": {},
   "source": [
    "\"\"\" Please uncomment each print command in cells to see and check the results of that cell \"\"\""
   ]
  },
  {
   "cell_type": "markdown",
   "id": "d8632d2c-8e69-4e8b-b583-72ec99cd0a58",
   "metadata": {},
   "source": [
    "## Creating 2 random matrices"
   ]
  },
  {
   "cell_type": "code",
   "execution_count": null,
   "id": "1e9b48cb-ce4c-4902-8c8f-6835f4eb9f31",
   "metadata": {
    "tags": []
   },
   "outputs": [],
   "source": [
    "import random\n",
    "\n",
    "#creating 2 matrices of random numbers between start and stop(0,9)  \n",
    "start = 0\n",
    "stop = 9\n",
    "#size of each matrix nXn\n",
    "n = 2\n",
    "all_elements = n*n\n",
    "\n",
    "#fisrt matrix with one digit random numbers\n",
    "first_matrix = [random.randint(start, stop) for iter in range(all_elements)]\n",
    "\n",
    "#second matrix with one digit random numbers\n",
    "second_matrix =  [random.randint(start, stop) for iter in range(all_elements)]\n",
    "\n",
    "#print(first_matrix)\n",
    "#print(second_matrix)"
   ]
  },
  {
   "cell_type": "markdown",
   "id": "5ac06f54-9018-41ec-888c-69f1e26c018f",
   "metadata": {},
   "source": [
    "## Writing randomly generated matrices to files A.txt and B.txt"
   ]
  },
  {
   "cell_type": "code",
   "execution_count": null,
   "id": "2aaf4e7b-fb5e-4658-8961-50a0e3ed90c4",
   "metadata": {
    "tags": []
   },
   "outputs": [],
   "source": [
    "matrices = {\"A.txt\":first_matrix, \"B.txt\":second_matrix}\n",
    "\n",
    "for item in matrices.items():\n",
    "    textfile = open(item[0], \"w\")\n",
    "    i =0\n",
    "    for element in item[1]:\n",
    "        i += 1\n",
    "        textfile.write(str(element))\n",
    "        \n",
    "        if i >= n and i%int(n) == 0 :\n",
    "            textfile.write(\"\\n\")\n",
    "        else:\n",
    "            textfile.write(\" \")\n",
    "    textfile.close()"
   ]
  },
  {
   "cell_type": "markdown",
   "id": "7a3bf176-4560-4a5c-bc98-66af5249a6aa",
   "metadata": {},
   "source": [
    "## Creating pyspark context and read txt files into rdd files"
   ]
  },
  {
   "cell_type": "code",
   "execution_count": null,
   "id": "fcdd1492-ce26-4b15-a8af-ed8c5463f4d9",
   "metadata": {
    "tags": []
   },
   "outputs": [],
   "source": [
    "from pyspark import SparkContext\n",
    "\n",
    "#create Spark context with necessary configuration\n",
    "sc = SparkContext.getOrCreate()\n",
    "\n",
    "indexed_matrices=[]\n",
    "\n",
    "for item in matrices.items():\n",
    "    #read data from text file and split each line into one element\n",
    "    rddfile_1 = sc.textFile(item[0]).map(lambda line: line.split(\" \"))\n",
    "    #convert all elements of the array from string to int \n",
    "    indexed_matrices.append(rddfile_1.map(lambda x: [int(ele) for ele in x]))"
   ]
  },
  {
   "cell_type": "markdown",
   "id": "43855950-fad6-46cb-99ed-1eaed5a56904",
   "metadata": {},
   "source": [
    "## Creating lists in the format assignment offered for matrices"
   ]
  },
  {
   "cell_type": "code",
   "execution_count": null,
   "id": "13444de5-94f2-4dff-802b-afde93e34593",
   "metadata": {
    "tags": []
   },
   "outputs": [],
   "source": [
    "#first matrix format((i,k)(M,j,a[i][j]))\n",
    "results = []\n",
    "matrix_values = indexed_matrices[0].collect()\n",
    "def firstMatrixAssignValues(value,j,k,x):\n",
    "    i = matrix_values.index(x)\n",
    "    return ((i,k), (0,j,value))\n",
    "\n",
    "results.append(indexed_matrices[0].map(lambda x : [firstMatrixAssignValues(value,index,k,x) for index, value in enumerate(x) for k in range(n)]))\n",
    "\n",
    "#results[0].collect()"
   ]
  },
  {
   "cell_type": "code",
   "execution_count": null,
   "id": "da6c79d6-1da7-4536-b186-9446e5e6792c",
   "metadata": {
    "tags": []
   },
   "outputs": [],
   "source": [
    "#second matrix format((i,k)(M,j,a[i][j]))\n",
    "matrix2_values = indexed_matrices[1].collect()\n",
    "def secondMatrixAssignValues(value,k,i,x):\n",
    "    j = matrix2_values.index(x)\n",
    "    return ((i,k), (1,j,value))\n",
    "\n",
    "results.append(indexed_matrices[1].map(lambda x : [secondMatrixAssignValues(value,index,i,x) for index, value in enumerate(x) for i in range(n)]))\n",
    "\n",
    "#results[1].collect()"
   ]
  },
  {
   "cell_type": "code",
   "execution_count": null,
   "id": "bc469ce3-cded-4d0b-9072-865cbc0508c4",
   "metadata": {},
   "outputs": [],
   "source": [
    "#merging results of the mapped matrices into one rdd\n",
    "final = results[1] + results[0]\n",
    "\n",
    "#final.collect()"
   ]
  },
  {
   "cell_type": "code",
   "execution_count": null,
   "id": "e1dc1efc-e600-4ddd-a6a1-a6e50c51e851",
   "metadata": {},
   "outputs": [],
   "source": [
    "flatmap_result =  final.flatMap(lambda x: x)\n",
    "\n",
    "#flatmap_result.collect()"
   ]
  },
  {
   "cell_type": "code",
   "execution_count": null,
   "id": "7ba17ca2-8893-49d7-ab3a-91ad5ba027c3",
   "metadata": {},
   "outputs": [],
   "source": [
    "#reduce the elements that have the same keys to one\n",
    "reduced_res = flatmap_result.reduceByKey(lambda x, y: (x+y)).sortByKey()\n",
    "\n",
    "#reduced_res.collect()"
   ]
  },
  {
   "cell_type": "code",
   "execution_count": null,
   "id": "0f2b0f3e-9894-477d-9cb7-599fdd389d89",
   "metadata": {},
   "outputs": [],
   "source": [
    "#put the values of each key in array format\n",
    "reduced_res2 = reduced_res.map(lambda x: (x[0],list(x[1])))\n",
    "\n",
    "#reduced_res2.collect()"
   ]
  },
  {
   "cell_type": "code",
   "execution_count": null,
   "id": "c9f5a4d0-b8b0-4cf1-bb46-34bed089af19",
   "metadata": {},
   "outputs": [],
   "source": [
    "#seperate each 3 elements of the values array into multiple arrays of length 3\n",
    "reduced_res3 = reduced_res2.map(lambda x: (x[0],[x[1][i:i+3] for i in range(0, len(x[1]), 3)]))\n",
    "\n",
    "#reduced_res3.collect()"
   ]
  },
  {
   "cell_type": "code",
   "execution_count": null,
   "id": "c1346fdd-9cca-4be4-967c-6241dc687789",
   "metadata": {},
   "outputs": [],
   "source": [
    "#collect the value of reduced_res3 rdd\n",
    "list_p = reduced_res3.collect()\n",
    "\n",
    "#print(list_p)"
   ]
  },
  {
   "cell_type": "markdown",
   "id": "2aaefe4b-f30d-4ef4-9ba9-7f8df8cc4da8",
   "metadata": {},
   "source": [
    "## Calculate the elemets in matrix C which is the result of AXB and store it in an array"
   ]
  },
  {
   "cell_type": "code",
   "execution_count": null,
   "id": "d52e9ada-3618-4a76-ad2f-c19cfe4aa735",
   "metadata": {},
   "outputs": [],
   "source": [
    "#saerch for the lists of values that have same j value to multiply them to each other and store it in a dictionary\n",
    "#then sum up the values to calculate the final result for C matrix which is the result of AXB \n",
    "final_result = []\n",
    "\n",
    "for j in range(n*n):\n",
    "    lookup_for_match = list_p[j][1]\n",
    "    \n",
    "    #print(lookup_for_match)\n",
    "    B = {}\n",
    "    for li in lookup_for_match:\n",
    "        if not li[1] in B:\n",
    "             B[li[1]] = 1\n",
    "        B[li[1]] *= li[2]\n",
    "\n",
    "    #print(B)\n",
    "    sum = 0\n",
    "    for i in B.values():\n",
    "        sum+=i\n",
    "    \n",
    "    #print(sum)\n",
    "    final_result.append(sum)\n",
    "\n",
    "    #print(final_result)"
   ]
  },
  {
   "cell_type": "markdown",
   "id": "8f9ccc08-1f74-4577-b78d-de6d07b4dee4",
   "metadata": {},
   "source": [
    "## Writing the result of the multiplication into \"C.txt\" file"
   ]
  },
  {
   "cell_type": "code",
   "execution_count": null,
   "id": "86ddc2c3-3232-438c-9235-2c8e1d80a3f4",
   "metadata": {},
   "outputs": [],
   "source": [
    "textfile = open(\"C.txt\", \"w\")\n",
    "   \n",
    "i =0\n",
    "for element in final_result:\n",
    "    i += 1\n",
    "    textfile.write(str(element))\n",
    "    if i >= n and i%int(n) == 0 :\n",
    "         textfile.write(\"\\n\")\n",
    "    else:\n",
    "         textfile.write(\" \")\n",
    "textfile.close()"
   ]
  }
 ],
 "metadata": {
  "kernelspec": {
   "display_name": "Python 3 (ipykernel)",
   "language": "python",
   "name": "python3"
  },
  "language_info": {
   "codemirror_mode": {
    "name": "ipython",
    "version": 3
   },
   "file_extension": ".py",
   "mimetype": "text/x-python",
   "name": "python",
   "nbconvert_exporter": "python",
   "pygments_lexer": "ipython3",
   "version": "3.9.6"
  }
 },
 "nbformat": 4,
 "nbformat_minor": 5
}
